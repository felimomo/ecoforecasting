{
 "cells": [
  {
   "cell_type": "code",
   "execution_count": 1,
   "id": "1478d483-3057-4a8c-ad16-0b4be9750997",
   "metadata": {
    "tags": []
   },
   "outputs": [],
   "source": [
    "import numpy as np\n",
    "import pandas as pd\n",
    "from darts import TimeSeries\n",
    "from darts.utils.missing_values import fill_missing_values\n",
    "\n",
    "from pytorch_lightning.callbacks import Callback\n",
    "import torch\n",
    "from darts.models import TCNModel\n",
    "\n",
    "from pytorch_lightning.callbacks import Callback, EarlyStopping\n",
    "from darts.metrics import marre\n",
    "from optuna.integration import PyTorchLightningPruningCallback\n",
    "\n",
    "import optuna"
   ]
  },
  {
   "cell_type": "code",
   "execution_count": 2,
   "id": "6a0a4afc-e2a6-4c7f-921e-eccb28b75232",
   "metadata": {
    "tags": []
   },
   "outputs": [],
   "source": [
    "all_data = pd.read_csv(\"https://data.ecoforecast.org/neon4cast-targets/beetles/beetles-targets.csv.gz\")\n",
    "all_data[\"datetime\"] = pd.to_datetime(all_data[\"datetime\"]).dt.tz_localize(None)\n",
    "stei_data_raw = all_data.loc[all_data[\"site_id\"] == \"STEI\"]\n",
    "tree_data_raw = all_data.loc[all_data[\"site_id\"] == \"TREE\"]\n",
    "unde_data_raw = all_data.loc[all_data[\"site_id\"] == \"UNDE\"]\n",
    "\n",
    "stei_data = stei_data_raw[[\"datetime\", \"site_id\", \"variable\", \"observation\"]].pivot(index=\"datetime\", columns=\"variable\", values=\"observation\")\n",
    "tree_data = tree_data_raw[[\"datetime\", \"site_id\", \"variable\", \"observation\"]].pivot(index=\"datetime\", columns=\"variable\", values=\"observation\")\n",
    "unde_data = unde_data_raw[[\"datetime\", \"site_id\", \"variable\", \"observation\"]].pivot(index=\"datetime\", columns=\"variable\", values=\"observation\")\n",
    "\n",
    "stei_data.columns = ['abundance', 'richness']\n",
    "tree_data.columns = ['abundance', 'richness']\n",
    "unde_data.columns = ['abundance', 'richness']"
   ]
  },
  {
   "cell_type": "code",
   "execution_count": 3,
   "id": "fba4f567-c748-486a-b898-11224b6257fa",
   "metadata": {
    "tags": []
   },
   "outputs": [],
   "source": [
    "stei_series = TimeSeries.from_dataframe(\n",
    "    stei_data,\n",
    "    freq = \"D\",\n",
    ")\n",
    "\n",
    "tree_series = TimeSeries.from_dataframe(\n",
    "    tree_data,\n",
    "    freq = \"D\",\n",
    ")\n",
    "\n",
    "unde_series = TimeSeries.from_dataframe(\n",
    "    unde_data,\n",
    "    freq = \"D\",\n",
    ")\n",
    "\n",
    "stei_series_filled = fill_missing_values(stei_series)\n",
    "tree_series_filled = fill_missing_values(tree_series)\n",
    "unde_series_filled = fill_missing_values(unde_series)"
   ]
  },
  {
   "cell_type": "markdown",
   "id": "86a74a31-50f6-4728-a38e-3ce6aab3b5a2",
   "metadata": {},
   "source": [
    "# Basic TCN\n",
    "\n",
    "Optional parameters left at default (except for GPU use)"
   ]
  },
  {
   "cell_type": "code",
   "execution_count": 4,
   "id": "7ac352f5-83e8-4743-88a9-35c73b4cc603",
   "metadata": {
    "tags": []
   },
   "outputs": [],
   "source": [
    "# from darts.models import TCNModel\n",
    "\n",
    "# ab_val, ab_forecast = predict(\n",
    "#     TCNModel, \n",
    "#     tree_series_filled[[\"abundance\"]], \n",
    "#     frac=0.75, \n",
    "#     input_chunk_length = 365,\n",
    "#     output_chunk_length = 300,\n",
    "#     pl_trainer_kwargs = {\"accelerator\": \"gpu\", \"devices\": [0]},\n",
    "#     kernel_size = 10,\n",
    "#     num_filters = 10,\n",
    "#     num_layers = 10,\n",
    "#     n_epochs = 200,\n",
    "# )\n",
    "# ri_val, ri_forecast = predict(\n",
    "#     TCNModel, \n",
    "#     tree_series_filled[[\"richness\"]], \n",
    "#     frac=0.75,\n",
    "#     input_chunk_length = 365,\n",
    "#     output_chunk_length = 300,\n",
    "#     pl_trainer_kwargs = {\"accelerator\": \"gpu\", \"devices\": [1]},\n",
    "#     kernel_size = 10,\n",
    "#     num_filters = 10,\n",
    "#     num_layers = 10,\n",
    "#     n_epochs = 200,\n",
    "# )"
   ]
  },
  {
   "cell_type": "code",
   "execution_count": 5,
   "id": "ee221d8c-2bd0-4a2f-b413-707328f5676a",
   "metadata": {
    "tags": []
   },
   "outputs": [],
   "source": [
    "# ab_val.plot()\n",
    "# ab_forecast.plot()"
   ]
  },
  {
   "cell_type": "code",
   "execution_count": 6,
   "id": "92b0b140-887b-4e21-be59-492ecf8d54d0",
   "metadata": {
    "tags": []
   },
   "outputs": [],
   "source": [
    "# ri_val.plot()\n",
    "# ri_forecast.plot()"
   ]
  },
  {
   "cell_type": "markdown",
   "id": "769eea45-0902-46bf-9d6f-f2052cec71de",
   "metadata": {},
   "source": [
    "### Hyperparameter tuning with Optuna\n",
    "\n",
    "Following https://github.com/unit8co/darts/blob/master/examples/17-hyperparameter-optimization.ipynb\n",
    "\n",
    "Logic: build a function that returns a metric for a fit model for a given set of hyperparameters (give as an input all hyperparameters to be optimized). Optuna will take the function as an input and tune hyperparameters, essentially.\n",
    "\n",
    "Moreover, use a function that returns the fit model for more readability (as in link).\n",
    "\n",
    "I will start with a much simpler example than the linked one.\n",
    "\n",
    "For some reason, the notebook in the link sets the series as a global constant instead of being an input to functions. I'll start it this way and then try to migrate it to the function arguments and see if that works.\n",
    "\n",
    "**Note:** running on the jupyter notebook was giving weird error messages related to IProgress. It apparently has something to do with the jupyter version having a bug, but I didn't get much clarity. I transferred the code to a python file which I ran from the terminal.\n",
    "\n",
    "**Best values found**\n",
    "\n",
    "*(optimizing for mse)*\n",
    "\n",
    "- Best value: 0.0011712478962756792, \n",
    "    - Best params: {'input_chunk_length': 346, 'output_chunk_length': 230, 'kernel_size': 23, 'num_filters': 21, 'weight_norm': True, 'dilation_base': 2, 'dropout': 0.3696851887663041, 'lr': 0.0006057703116542806}\n",
    "- Best value: 0.0013880039811830457,\n",
    "    - Best params {'input_chunk_length': 339, 'output_chunk_length': 222, 'kernel_size': 18, 'num_filters': 23, 'weight_norm': False, 'dilation_base': 2, 'dropout': 0.31833372764419543, 'lr': 0.0001772871812814443} *(10 workers, reduced in/out chunk windows)*\n",
    "\n",
    "*(optimizing for marre)*"
   ]
  },
  {
   "cell_type": "code",
   "execution_count": 7,
   "id": "c21af8df-9ab2-4136-a80a-bc88e68eee70",
   "metadata": {
    "tags": []
   },
   "outputs": [],
   "source": [
    "_series = tree_series_filled[[\"abundance\"]]\n",
    "\n",
    "_train_frac = 0.85\n",
    "_train, _val = _series.split_before(_train_frac)"
   ]
  },
  {
   "cell_type": "code",
   "execution_count": 8,
   "id": "2916564b-8a57-47be-a488-6f8184b4d4ab",
   "metadata": {},
   "outputs": [],
   "source": [
    "def fit_model(\n",
    "    in_len,\n",
    "    out_len,\n",
    "    kernel_size,\n",
    "    num_filters,\n",
    "    weight_norm,\n",
    "    dilation_base,\n",
    "    dropout,\n",
    "    lr,\n",
    "    likelihood=None,\n",
    "    callbacks=None,\n",
    "    gpu_devices = range(torch.cuda.device_count()),\n",
    "):\n",
    "    # train parameter is the training series\n",
    "    \n",
    "    # reproducibility\n",
    "    torch.manual_seed(42)\n",
    "\n",
    "    # some fixed parameters that will be the same for all models\n",
    "    BATCH_SIZE = 1024\n",
    "    MAX_N_EPOCHS = 250 # tuned hyperparameters with 70 epochs\n",
    "    NR_EPOCHS_VAL_PERIOD = 1\n",
    "    MAX_SAMPLES_PER_TS = 1000\n",
    "    \n",
    "    # throughout training we'll monitor the validation loss for early stopping\n",
    "    early_stopper = EarlyStopping(\"train_loss\", min_delta=0.0001, patience=5, verbose=True)\n",
    "    if callbacks is None:\n",
    "        callbacks = [early_stopper]\n",
    "    else:\n",
    "        callbacks = [early_stopper] + callbacks\n",
    "    \n",
    "    # detect if a GPU is available\n",
    "    pl_trainer_kwargs = {\n",
    "            \"accelerator\": \"gpu\",\n",
    "            \"devices\": gpu_devices,\n",
    "            \"callbacks\": callbacks,\n",
    "        }\n",
    "    num_workers = 4\n",
    "    \n",
    "    # if torch.cuda.is_available():\n",
    "    #     pl_trainer_kwargs = {\n",
    "    #         \"accelerator\": \"gpu\",\n",
    "    #         \"callbacks\": callbacks,\n",
    "    #     }\n",
    "    #     num_workers = 4\n",
    "    \n",
    "    model = TCNModel(\n",
    "        input_chunk_length=in_len,\n",
    "        output_chunk_length=out_len,\n",
    "        batch_size=BATCH_SIZE,\n",
    "        n_epochs=MAX_N_EPOCHS,\n",
    "        nr_epochs_val_period=NR_EPOCHS_VAL_PERIOD,\n",
    "        kernel_size=kernel_size,\n",
    "        num_filters=num_filters,\n",
    "        weight_norm=weight_norm,\n",
    "        dilation_base=dilation_base,\n",
    "        dropout=dropout,\n",
    "        optimizer_kwargs={\"lr\": lr},\n",
    "        likelihood=likelihood,\n",
    "        pl_trainer_kwargs=pl_trainer_kwargs,\n",
    "        model_name=\"tcn_model\",\n",
    "        force_reset=True,\n",
    "        save_checkpoints=True,\n",
    "    )\n",
    "    \n",
    "    # fit model to train data\n",
    "    model.fit(\n",
    "        series = _train,\n",
    "        max_samples_per_ts = MAX_SAMPLES_PER_TS,\n",
    "        num_loader_workers = num_workers,\n",
    "    )\n",
    "    \n",
    "    return model"
   ]
  },
  {
   "cell_type": "code",
   "execution_count": 9,
   "id": "1a319ad3-2d7b-47e9-8464-6152f90663cd",
   "metadata": {},
   "outputs": [
    {
     "name": "stderr",
     "output_type": "stream",
     "text": [
      "/home/rstudio/.local/lib/python3.10/site-packages/torch/random.py:107: UserWarning: CUDA reports that you have 2 available devices, and you have used fork_rng without explicitly specifying which devices are being used. For safety, we initialize *every* CUDA device by default, which can be quite slow if you have a lot of GPUs.  If you know that you are only making use of a few CUDA devices, set the environment variable CUDA_VISIBLE_DEVICES or the 'devices' keyword argument of fork_rng with the set of devices you are actually using.  For example, if you are using CPU only, set CUDA_VISIBLE_DEVICES= or devices=[]; if you are using GPU 0 only, set CUDA_VISIBLE_DEVICES=0 or devices=[0].  To initialize all devices and suppress this warning, set the 'devices' keyword argument to `range(torch.cuda.device_count())`.\n",
      "  warnings.warn(\n",
      "GPU available: True (cuda), used: True\n",
      "TPU available: False, using: 0 TPU cores\n",
      "IPU available: False, using: 0 IPUs\n",
      "HPU available: False, using: 0 HPUs\n",
      "LOCAL_RANK: 0 - CUDA_VISIBLE_DEVICES: [0,1]\n",
      "\n",
      "  | Name          | Type              | Params\n",
      "----------------------------------------------------\n",
      "0 | criterion     | MSELoss           | 0     \n",
      "1 | train_metrics | MetricCollection  | 0     \n",
      "2 | val_metrics   | MetricCollection  | 0     \n",
      "3 | dropout       | MonteCarloDropout | 0     \n",
      "4 | res_blocks    | ModuleList        | 62.2 K\n",
      "----------------------------------------------------\n",
      "62.2 K    Trainable params\n",
      "0         Non-trainable params\n",
      "62.2 K    Total params\n",
      "0.249     Total estimated model params size (MB)\n"
     ]
    },
    {
     "data": {
      "application/vnd.jupyter.widget-view+json": {
       "model_id": "d4216406de754f9c9801a4295fe6d702",
       "version_major": 2,
       "version_minor": 0
      },
      "text/plain": [
       "Training: 0it [00:00, ?it/s]"
      ]
     },
     "metadata": {},
     "output_type": "display_data"
    },
    {
     "name": "stderr",
     "output_type": "stream",
     "text": [
      "Metric train_loss improved. New best score: 0.108\n",
      "/home/rstudio/.local/lib/python3.10/site-packages/pytorch_lightning/callbacks/model_checkpoint.py:359: UserWarning: `ModelCheckpoint(monitor='val_loss')` could not find the monitored key in the returned metrics: ['train_loss', 'epoch', 'step']. HINT: Did you call `log('val_loss', value)` in the `LightningModule`?\n",
      "  warning_cache.warn(m)\n",
      "Metric train_loss improved by 0.022 >= min_delta = 0.0001. New best score: 0.087\n",
      "Metric train_loss improved by 0.026 >= min_delta = 0.0001. New best score: 0.061\n",
      "Metric train_loss improved by 0.019 >= min_delta = 0.0001. New best score: 0.042\n",
      "Metric train_loss improved by 0.004 >= min_delta = 0.0001. New best score: 0.038\n",
      "Metric train_loss improved by 0.001 >= min_delta = 0.0001. New best score: 0.037\n",
      "Metric train_loss improved by 0.003 >= min_delta = 0.0001. New best score: 0.035\n",
      "Metric train_loss improved by 0.003 >= min_delta = 0.0001. New best score: 0.031\n",
      "Metric train_loss improved by 0.002 >= min_delta = 0.0001. New best score: 0.029\n",
      "Metric train_loss improved by 0.001 >= min_delta = 0.0001. New best score: 0.028\n",
      "Metric train_loss improved by 0.000 >= min_delta = 0.0001. New best score: 0.027\n",
      "Metric train_loss improved by 0.000 >= min_delta = 0.0001. New best score: 0.027\n",
      "Metric train_loss improved by 0.001 >= min_delta = 0.0001. New best score: 0.027\n",
      "Metric train_loss improved by 0.001 >= min_delta = 0.0001. New best score: 0.026\n",
      "Metric train_loss improved by 0.001 >= min_delta = 0.0001. New best score: 0.025\n",
      "Metric train_loss improved by 0.001 >= min_delta = 0.0001. New best score: 0.024\n",
      "Metric train_loss improved by 0.000 >= min_delta = 0.0001. New best score: 0.024\n",
      "Metric train_loss improved by 0.000 >= min_delta = 0.0001. New best score: 0.024\n",
      "Metric train_loss improved by 0.000 >= min_delta = 0.0001. New best score: 0.023\n",
      "Metric train_loss improved by 0.000 >= min_delta = 0.0001. New best score: 0.023\n",
      "Metric train_loss improved by 0.000 >= min_delta = 0.0001. New best score: 0.023\n",
      "Metric train_loss improved by 0.000 >= min_delta = 0.0001. New best score: 0.023\n",
      "Metric train_loss improved by 0.000 >= min_delta = 0.0001. New best score: 0.022\n",
      "Metric train_loss improved by 0.000 >= min_delta = 0.0001. New best score: 0.022\n",
      "Metric train_loss improved by 0.000 >= min_delta = 0.0001. New best score: 0.022\n",
      "Metric train_loss improved by 0.000 >= min_delta = 0.0001. New best score: 0.022\n",
      "Metric train_loss improved by 0.000 >= min_delta = 0.0001. New best score: 0.021\n",
      "Metric train_loss improved by 0.000 >= min_delta = 0.0001. New best score: 0.021\n",
      "Metric train_loss improved by 0.000 >= min_delta = 0.0001. New best score: 0.021\n",
      "Metric train_loss improved by 0.000 >= min_delta = 0.0001. New best score: 0.021\n",
      "Metric train_loss improved by 0.000 >= min_delta = 0.0001. New best score: 0.021\n",
      "Metric train_loss improved by 0.000 >= min_delta = 0.0001. New best score: 0.021\n",
      "Metric train_loss improved by 0.000 >= min_delta = 0.0001. New best score: 0.020\n",
      "Metric train_loss improved by 0.000 >= min_delta = 0.0001. New best score: 0.020\n",
      "Metric train_loss improved by 0.000 >= min_delta = 0.0001. New best score: 0.020\n",
      "Metric train_loss improved by 0.000 >= min_delta = 0.0001. New best score: 0.020\n",
      "Metric train_loss improved by 0.000 >= min_delta = 0.0001. New best score: 0.020\n",
      "Metric train_loss improved by 0.000 >= min_delta = 0.0001. New best score: 0.020\n",
      "Metric train_loss improved by 0.000 >= min_delta = 0.0001. New best score: 0.019\n",
      "Metric train_loss improved by 0.000 >= min_delta = 0.0001. New best score: 0.019\n",
      "Metric train_loss improved by 0.000 >= min_delta = 0.0001. New best score: 0.019\n",
      "Metric train_loss improved by 0.000 >= min_delta = 0.0001. New best score: 0.019\n",
      "Metric train_loss improved by 0.000 >= min_delta = 0.0001. New best score: 0.019\n",
      "/home/rstudio/.local/lib/python3.10/site-packages/pytorch_lightning/trainer/call.py:54: UserWarning: Detected KeyboardInterrupt, attempting graceful shutdown...\n",
      "  rank_zero_warn(\"Detected KeyboardInterrupt, attempting graceful shutdown...\")\n"
     ]
    }
   ],
   "source": [
    "d0 = {'input_chunk_length': 346, 'output_chunk_length': 230, 'kernel_size': 23, 'num_filters': 21, 'weight_norm': True, 'dilation_base': 2, 'dropout': 0.3696851887663041, 'lr': 0.0006057703116542806}\n",
    "\n",
    "tuned_fit_TCNN0 = fit_model(\n",
    "    in_len = d0['input_chunk_length'],\n",
    "    out_len = d0['output_chunk_length'],\n",
    "    kernel_size = d0['kernel_size'],\n",
    "    num_filters = d0['num_filters'],\n",
    "    weight_norm = d0['weight_norm'],\n",
    "    dilation_base = d0['dilation_base'],\n",
    "    dropout = d0['dropout'],\n",
    "    lr = d0['lr'],\n",
    "    gpu_devices = [0],\n",
    ")"
   ]
  },
  {
   "cell_type": "code",
   "execution_count": 10,
   "id": "f5be97d6-46e1-4790-b0ae-8a1934e7f9f4",
   "metadata": {},
   "outputs": [
    {
     "name": "stderr",
     "output_type": "stream",
     "text": [
      "GPU available: True (cuda), used: True\n",
      "TPU available: False, using: 0 TPU cores\n",
      "IPU available: False, using: 0 IPUs\n",
      "HPU available: False, using: 0 HPUs\n",
      "LOCAL_RANK: 0 - CUDA_VISIBLE_DEVICES: [0,1]\n"
     ]
    },
    {
     "data": {
      "application/vnd.jupyter.widget-view+json": {
       "model_id": "3b089dd16bf3489ca24f6259618dd914",
       "version_major": 2,
       "version_minor": 0
      },
      "text/plain": [
       "Predicting: 0it [00:00, ?it/s]"
      ]
     },
     "metadata": {},
     "output_type": "display_data"
    }
   ],
   "source": [
    "forecast0 = tuned_fit_TCNN0.predict(len(_val))"
   ]
  },
  {
   "cell_type": "code",
   "execution_count": 11,
   "id": "ef23661f-b381-4be7-9eed-4c4f488a15ca",
   "metadata": {
    "tags": []
   },
   "outputs": [
    {
     "name": "stderr",
     "output_type": "stream",
     "text": [
      "GPU available: True (cuda), used: True\n",
      "TPU available: False, using: 0 TPU cores\n",
      "IPU available: False, using: 0 IPUs\n",
      "HPU available: False, using: 0 HPUs\n",
      "LOCAL_RANK: 0 - CUDA_VISIBLE_DEVICES: [0,1]\n",
      "\n",
      "  | Name          | Type              | Params\n",
      "----------------------------------------------------\n",
      "0 | criterion     | MSELoss           | 0     \n",
      "1 | train_metrics | MetricCollection  | 0     \n",
      "2 | val_metrics   | MetricCollection  | 0     \n",
      "3 | dropout       | MonteCarloDropout | 0     \n",
      "4 | res_blocks    | ModuleList        | 58.2 K\n",
      "----------------------------------------------------\n",
      "58.2 K    Trainable params\n",
      "0         Non-trainable params\n",
      "58.2 K    Total params\n",
      "0.233     Total estimated model params size (MB)\n"
     ]
    },
    {
     "data": {
      "application/vnd.jupyter.widget-view+json": {
       "model_id": "68c27d3f18ef4c0190e0210d06623484",
       "version_major": 2,
       "version_minor": 0
      },
      "text/plain": [
       "Training: 0it [00:00, ?it/s]"
      ]
     },
     "metadata": {},
     "output_type": "display_data"
    },
    {
     "name": "stderr",
     "output_type": "stream",
     "text": [
      "Metric train_loss improved. New best score: 0.181\n",
      "Metric train_loss improved by 0.054 >= min_delta = 0.0001. New best score: 0.126\n",
      "Metric train_loss improved by 0.041 >= min_delta = 0.0001. New best score: 0.086\n",
      "Metric train_loss improved by 0.025 >= min_delta = 0.0001. New best score: 0.061\n",
      "Metric train_loss improved by 0.007 >= min_delta = 0.0001. New best score: 0.053\n",
      "Monitored metric train_loss did not improve in the last 5 records. Best score: 0.053. Signaling Trainer to stop.\n"
     ]
    }
   ],
   "source": [
    "d1 = {'input_chunk_length': 339, 'output_chunk_length': 222, 'kernel_size': 18, 'num_filters': 23, 'weight_norm': False, 'dilation_base': 2, 'dropout': 0.31833372764419543, 'lr': 0.0001772871812814443}\n",
    "\n",
    "tuned_fit_TCNN1 = fit_model(\n",
    "    in_len = d1['input_chunk_length'],\n",
    "    out_len = d1['output_chunk_length'],\n",
    "    kernel_size = d1['kernel_size'],\n",
    "    num_filters = d1['num_filters'],\n",
    "    weight_norm = d1['weight_norm'],\n",
    "    dilation_base = d1['dilation_base'],\n",
    "    dropout = d1['dropout'],\n",
    "    lr = d1['lr'],\n",
    "    gpu_devices = [0],\n",
    ")"
   ]
  },
  {
   "cell_type": "code",
   "execution_count": 12,
   "id": "01dd25be-2908-4074-bbe6-4e72423f41a7",
   "metadata": {
    "tags": []
   },
   "outputs": [
    {
     "name": "stderr",
     "output_type": "stream",
     "text": [
      "GPU available: True (cuda), used: True\n",
      "TPU available: False, using: 0 TPU cores\n",
      "IPU available: False, using: 0 IPUs\n",
      "HPU available: False, using: 0 HPUs\n",
      "LOCAL_RANK: 0 - CUDA_VISIBLE_DEVICES: [0,1]\n"
     ]
    },
    {
     "data": {
      "application/vnd.jupyter.widget-view+json": {
       "model_id": "fffa077712194e96856529bb53308daa",
       "version_major": 2,
       "version_minor": 0
      },
      "text/plain": [
       "Predicting: 0it [00:00, ?it/s]"
      ]
     },
     "metadata": {},
     "output_type": "display_data"
    }
   ],
   "source": [
    "forecast1 = tuned_fit_TCNN1.predict(len(_val))"
   ]
  },
  {
   "cell_type": "code",
   "execution_count": 13,
   "id": "b4e556e3-6d29-4e86-89ab-f467ebbfc11a",
   "metadata": {
    "tags": []
   },
   "outputs": [
    {
     "name": "stderr",
     "output_type": "stream",
     "text": [
      "GPU available: True (cuda), used: True\n",
      "TPU available: False, using: 0 TPU cores\n",
      "IPU available: False, using: 0 IPUs\n",
      "HPU available: False, using: 0 HPUs\n",
      "LOCAL_RANK: 0 - CUDA_VISIBLE_DEVICES: [0,1]\n"
     ]
    },
    {
     "data": {
      "application/vnd.jupyter.widget-view+json": {
       "model_id": "0134ec91e21c4edbb672922e5674671b",
       "version_major": 2,
       "version_minor": 0
      },
      "text/plain": [
       "Predicting: 0it [00:00, ?it/s]"
      ]
     },
     "metadata": {},
     "output_type": "display_data"
    },
    {
     "name": "stderr",
     "output_type": "stream",
     "text": [
      "GPU available: True (cuda), used: True\n",
      "TPU available: False, using: 0 TPU cores\n",
      "IPU available: False, using: 0 IPUs\n",
      "HPU available: False, using: 0 HPUs\n",
      "LOCAL_RANK: 0 - CUDA_VISIBLE_DEVICES: [0,1]\n"
     ]
    },
    {
     "data": {
      "application/vnd.jupyter.widget-view+json": {
       "model_id": "9b9104c5afbc4d0f96d3083a8bd1612a",
       "version_major": 2,
       "version_minor": 0
      },
      "text/plain": [
       "Predicting: 0it [00:00, ?it/s]"
      ]
     },
     "metadata": {},
     "output_type": "display_data"
    },
    {
     "data": {
      "image/png": "[encoded data removed]",
      "text/plain": [
       "<Figure size 640x480 with 1 Axes>"
      ]
     },
     "metadata": {},
     "output_type": "display_data"
    }
   ],
   "source": [
    "forecast0 = tuned_fit_TCNN0.predict(len(_val))\n",
    "forecast1 = tuned_fit_TCNN1.predict(len(_val))\n",
    "\n",
    "forecast0.plot(label = \"forecast 0\")\n",
    "forecast1.plot(label = \"forecast 1\")\n",
    "\n",
    "dont_plot, plot_series = _series.split_before(2*_train_frac - 1)\n",
    "plot_series.plot()"
   ]
  },
  {
   "cell_type": "code",
   "execution_count": null,
   "id": "d5abb3d5-e4cd-45dc-b2c8-bccb918d716c",
   "metadata": {},
   "outputs": [],
   "source": []
  },
  {
   "cell_type": "markdown",
   "id": "18eb6d11-18cd-491b-85f3-f452f6511731",
   "metadata": {},
   "source": [
    "## Generalizing to other series"
   ]
  },
  {
   "cell_type": "code",
   "execution_count": 14,
   "id": "f0f55318-30c5-4d1d-a34e-83826e486246",
   "metadata": {
    "tags": []
   },
   "outputs": [],
   "source": [
    "_series = tree_series_filled[[\"abundance\"]]\n",
    "\n",
    "_train_frac = 0.80\n",
    "_train, _val = _series.split_before(_train_frac)"
   ]
  },
  {
   "cell_type": "code",
   "execution_count": 15,
   "id": "2f8b9f43-bdf7-41fd-9624-d3decc27a622",
   "metadata": {
    "tags": []
   },
   "outputs": [
    {
     "name": "stderr",
     "output_type": "stream",
     "text": [
      "GPU available: True (cuda), used: True\n",
      "TPU available: False, using: 0 TPU cores\n",
      "IPU available: False, using: 0 IPUs\n",
      "HPU available: False, using: 0 HPUs\n",
      "LOCAL_RANK: 0 - CUDA_VISIBLE_DEVICES: [0,1]\n",
      "\n",
      "  | Name          | Type              | Params\n",
      "----------------------------------------------------\n",
      "0 | criterion     | MSELoss           | 0     \n",
      "1 | train_metrics | MetricCollection  | 0     \n",
      "2 | val_metrics   | MetricCollection  | 0     \n",
      "3 | dropout       | MonteCarloDropout | 0     \n",
      "4 | res_blocks    | ModuleList        | 62.2 K\n",
      "----------------------------------------------------\n",
      "62.2 K    Trainable params\n",
      "0         Non-trainable params\n",
      "62.2 K    Total params\n",
      "0.249     Total estimated model params size (MB)\n"
     ]
    },
    {
     "data": {
      "application/vnd.jupyter.widget-view+json": {
       "model_id": "f82502f50fd4486b8f7f042d0daf3cca",
       "version_major": 2,
       "version_minor": 0
      },
      "text/plain": [
       "Training: 0it [00:00, ?it/s]"
      ]
     },
     "metadata": {},
     "output_type": "display_data"
    },
    {
     "name": "stderr",
     "output_type": "stream",
     "text": [
      "Metric train_loss improved. New best score: 0.263\n",
      "Metric train_loss improved by 0.169 >= min_delta = 0.0001. New best score: 0.094\n",
      "Metric train_loss improved by 0.005 >= min_delta = 0.0001. New best score: 0.088\n",
      "Metric train_loss improved by 0.026 >= min_delta = 0.0001. New best score: 0.062\n",
      "Metric train_loss improved by 0.003 >= min_delta = 0.0001. New best score: 0.060\n",
      "Metric train_loss improved by 0.002 >= min_delta = 0.0001. New best score: 0.057\n",
      "Metric train_loss improved by 0.007 >= min_delta = 0.0001. New best score: 0.050\n",
      "Metric train_loss improved by 0.007 >= min_delta = 0.0001. New best score: 0.044\n",
      "Metric train_loss improved by 0.000 >= min_delta = 0.0001. New best score: 0.043\n",
      "Metric train_loss improved by 0.000 >= min_delta = 0.0001. New best score: 0.043\n",
      "Metric train_loss improved by 0.003 >= min_delta = 0.0001. New best score: 0.040\n",
      "Metric train_loss improved by 0.003 >= min_delta = 0.0001. New best score: 0.036\n",
      "Metric train_loss improved by 0.001 >= min_delta = 0.0001. New best score: 0.035\n",
      "Metric train_loss improved by 0.000 >= min_delta = 0.0001. New best score: 0.035\n",
      "Metric train_loss improved by 0.000 >= min_delta = 0.0001. New best score: 0.035\n",
      "Metric train_loss improved by 0.001 >= min_delta = 0.0001. New best score: 0.034\n",
      "Metric train_loss improved by 0.000 >= min_delta = 0.0001. New best score: 0.033\n",
      "Metric train_loss improved by 0.000 >= min_delta = 0.0001. New best score: 0.033\n",
      "Metric train_loss improved by 0.000 >= min_delta = 0.0001. New best score: 0.033\n",
      "Metric train_loss improved by 0.001 >= min_delta = 0.0001. New best score: 0.032\n",
      "Metric train_loss improved by 0.001 >= min_delta = 0.0001. New best score: 0.031\n",
      "Metric train_loss improved by 0.000 >= min_delta = 0.0001. New best score: 0.031\n",
      "Metric train_loss improved by 0.000 >= min_delta = 0.0001. New best score: 0.031\n",
      "Metric train_loss improved by 0.000 >= min_delta = 0.0001. New best score: 0.030\n",
      "Metric train_loss improved by 0.001 >= min_delta = 0.0001. New best score: 0.030\n",
      "Metric train_loss improved by 0.000 >= min_delta = 0.0001. New best score: 0.029\n",
      "Metric train_loss improved by 0.000 >= min_delta = 0.0001. New best score: 0.029\n",
      "Metric train_loss improved by 0.000 >= min_delta = 0.0001. New best score: 0.029\n",
      "Metric train_loss improved by 0.000 >= min_delta = 0.0001. New best score: 0.028\n",
      "Metric train_loss improved by 0.000 >= min_delta = 0.0001. New best score: 0.028\n",
      "Metric train_loss improved by 0.000 >= min_delta = 0.0001. New best score: 0.027\n",
      "Metric train_loss improved by 0.000 >= min_delta = 0.0001. New best score: 0.027\n",
      "Metric train_loss improved by 0.000 >= min_delta = 0.0001. New best score: 0.027\n",
      "Metric train_loss improved by 0.000 >= min_delta = 0.0001. New best score: 0.026\n",
      "Metric train_loss improved by 0.000 >= min_delta = 0.0001. New best score: 0.026\n",
      "Metric train_loss improved by 0.000 >= min_delta = 0.0001. New best score: 0.026\n",
      "Metric train_loss improved by 0.000 >= min_delta = 0.0001. New best score: 0.026\n",
      "Metric train_loss improved by 0.000 >= min_delta = 0.0001. New best score: 0.025\n",
      "Metric train_loss improved by 0.000 >= min_delta = 0.0001. New best score: 0.025\n",
      "Metric train_loss improved by 0.000 >= min_delta = 0.0001. New best score: 0.025\n",
      "Metric train_loss improved by 0.000 >= min_delta = 0.0001. New best score: 0.024\n",
      "Metric train_loss improved by 0.000 >= min_delta = 0.0001. New best score: 0.024\n",
      "Metric train_loss improved by 0.000 >= min_delta = 0.0001. New best score: 0.024\n",
      "Metric train_loss improved by 0.000 >= min_delta = 0.0001. New best score: 0.024\n",
      "Metric train_loss improved by 0.000 >= min_delta = 0.0001. New best score: 0.023\n",
      "Metric train_loss improved by 0.000 >= min_delta = 0.0001. New best score: 0.023\n",
      "Metric train_loss improved by 0.000 >= min_delta = 0.0001. New best score: 0.023\n",
      "Metric train_loss improved by 0.000 >= min_delta = 0.0001. New best score: 0.023\n",
      "Metric train_loss improved by 0.000 >= min_delta = 0.0001. New best score: 0.023\n",
      "Metric train_loss improved by 0.000 >= min_delta = 0.0001. New best score: 0.022\n",
      "Metric train_loss improved by 0.000 >= min_delta = 0.0001. New best score: 0.022\n",
      "Metric train_loss improved by 0.000 >= min_delta = 0.0001. New best score: 0.022\n",
      "Metric train_loss improved by 0.000 >= min_delta = 0.0001. New best score: 0.022\n",
      "Metric train_loss improved by 0.000 >= min_delta = 0.0001. New best score: 0.022\n",
      "Metric train_loss improved by 0.000 >= min_delta = 0.0001. New best score: 0.022\n",
      "Metric train_loss improved by 0.000 >= min_delta = 0.0001. New best score: 0.021\n",
      "Metric train_loss improved by 0.000 >= min_delta = 0.0001. New best score: 0.021\n",
      "Metric train_loss improved by 0.000 >= min_delta = 0.0001. New best score: 0.021\n",
      "Metric train_loss improved by 0.000 >= min_delta = 0.0001. New best score: 0.021\n",
      "Metric train_loss improved by 0.000 >= min_delta = 0.0001. New best score: 0.021\n",
      "Metric train_loss improved by 0.000 >= min_delta = 0.0001. New best score: 0.021\n",
      "Metric train_loss improved by 0.000 >= min_delta = 0.0001. New best score: 0.021\n",
      "Metric train_loss improved by 0.000 >= min_delta = 0.0001. New best score: 0.020\n",
      "Metric train_loss improved by 0.000 >= min_delta = 0.0001. New best score: 0.020\n",
      "Metric train_loss improved by 0.000 >= min_delta = 0.0001. New best score: 0.020\n",
      "Metric train_loss improved by 0.000 >= min_delta = 0.0001. New best score: 0.020\n",
      "Metric train_loss improved by 0.000 >= min_delta = 0.0001. New best score: 0.020\n",
      "Metric train_loss improved by 0.000 >= min_delta = 0.0001. New best score: 0.019\n",
      "Metric train_loss improved by 0.000 >= min_delta = 0.0001. New best score: 0.019\n",
      "Metric train_loss improved by 0.000 >= min_delta = 0.0001. New best score: 0.019\n",
      "Metric train_loss improved by 0.000 >= min_delta = 0.0001. New best score: 0.019\n",
      "Metric train_loss improved by 0.000 >= min_delta = 0.0001. New best score: 0.019\n",
      "Metric train_loss improved by 0.000 >= min_delta = 0.0001. New best score: 0.019\n",
      "Metric train_loss improved by 0.000 >= min_delta = 0.0001. New best score: 0.018\n",
      "Metric train_loss improved by 0.000 >= min_delta = 0.0001. New best score: 0.018\n",
      "Metric train_loss improved by 0.000 >= min_delta = 0.0001. New best score: 0.018\n",
      "Metric train_loss improved by 0.000 >= min_delta = 0.0001. New best score: 0.018\n",
      "Metric train_loss improved by 0.000 >= min_delta = 0.0001. New best score: 0.018\n",
      "Metric train_loss improved by 0.000 >= min_delta = 0.0001. New best score: 0.018\n",
      "Metric train_loss improved by 0.000 >= min_delta = 0.0001. New best score: 0.018\n",
      "Metric train_loss improved by 0.000 >= min_delta = 0.0001. New best score: 0.017\n",
      "Metric train_loss improved by 0.000 >= min_delta = 0.0001. New best score: 0.017\n",
      "Metric train_loss improved by 0.000 >= min_delta = 0.0001. New best score: 0.017\n",
      "Metric train_loss improved by 0.000 >= min_delta = 0.0001. New best score: 0.017\n",
      "Metric train_loss improved by 0.000 >= min_delta = 0.0001. New best score: 0.017\n",
      "Metric train_loss improved by 0.000 >= min_delta = 0.0001. New best score: 0.017\n",
      "Metric train_loss improved by 0.000 >= min_delta = 0.0001. New best score: 0.017\n",
      "Metric train_loss improved by 0.000 >= min_delta = 0.0001. New best score: 0.016\n",
      "Metric train_loss improved by 0.000 >= min_delta = 0.0001. New best score: 0.016\n",
      "Metric train_loss improved by 0.000 >= min_delta = 0.0001. New best score: 0.016\n",
      "Metric train_loss improved by 0.000 >= min_delta = 0.0001. New best score: 0.016\n",
      "Metric train_loss improved by 0.000 >= min_delta = 0.0001. New best score: 0.016\n",
      "Metric train_loss improved by 0.000 >= min_delta = 0.0001. New best score: 0.016\n",
      "Metric train_loss improved by 0.000 >= min_delta = 0.0001. New best score: 0.016\n",
      "Metric train_loss improved by 0.000 >= min_delta = 0.0001. New best score: 0.016\n",
      "Metric train_loss improved by 0.000 >= min_delta = 0.0001. New best score: 0.015\n",
      "Metric train_loss improved by 0.000 >= min_delta = 0.0001. New best score: 0.015\n",
      "Metric train_loss improved by 0.000 >= min_delta = 0.0001. New best score: 0.015\n",
      "Metric train_loss improved by 0.000 >= min_delta = 0.0001. New best score: 0.015\n",
      "Metric train_loss improved by 0.000 >= min_delta = 0.0001. New best score: 0.015\n",
      "Metric train_loss improved by 0.000 >= min_delta = 0.0001. New best score: 0.015\n",
      "Metric train_loss improved by 0.000 >= min_delta = 0.0001. New best score: 0.015\n",
      "Metric train_loss improved by 0.000 >= min_delta = 0.0001. New best score: 0.014\n",
      "Metric train_loss improved by 0.000 >= min_delta = 0.0001. New best score: 0.014\n",
      "Metric train_loss improved by 0.000 >= min_delta = 0.0001. New best score: 0.014\n",
      "Metric train_loss improved by 0.000 >= min_delta = 0.0001. New best score: 0.014\n",
      "Metric train_loss improved by 0.000 >= min_delta = 0.0001. New best score: 0.014\n",
      "Metric train_loss improved by 0.000 >= min_delta = 0.0001. New best score: 0.014\n",
      "Metric train_loss improved by 0.000 >= min_delta = 0.0001. New best score: 0.014\n",
      "Metric train_loss improved by 0.000 >= min_delta = 0.0001. New best score: 0.014\n",
      "Metric train_loss improved by 0.000 >= min_delta = 0.0001. New best score: 0.013\n",
      "Metric train_loss improved by 0.000 >= min_delta = 0.0001. New best score: 0.013\n",
      "Metric train_loss improved by 0.000 >= min_delta = 0.0001. New best score: 0.013\n",
      "Metric train_loss improved by 0.000 >= min_delta = 0.0001. New best score: 0.013\n",
      "Metric train_loss improved by 0.000 >= min_delta = 0.0001. New best score: 0.013\n",
      "Metric train_loss improved by 0.000 >= min_delta = 0.0001. New best score: 0.013\n",
      "Metric train_loss improved by 0.000 >= min_delta = 0.0001. New best score: 0.013\n",
      "Monitored metric train_loss did not improve in the last 5 records. Best score: 0.013. Signaling Trainer to stop.\n"
     ]
    }
   ],
   "source": [
    "d0 = {'input_chunk_length': 346, 'output_chunk_length': 230, 'kernel_size': 23, 'num_filters': 21, 'weight_norm': True, 'dilation_base': 2, 'dropout': 0.3696851887663041, 'lr': 0.0006057703116542806}\n",
    "\n",
    "tuned_fit_TCNN0 = fit_model(\n",
    "    in_len = d0['input_chunk_length'],\n",
    "    out_len = d0['output_chunk_length'],\n",
    "    kernel_size = d0['kernel_size'],\n",
    "    num_filters = d0['num_filters'],\n",
    "    weight_norm = d0['weight_norm'],\n",
    "    dilation_base = d0['dilation_base'],\n",
    "    dropout = d0['dropout'],\n",
    "    lr = d0['lr'],\n",
    "    gpu_devices = [0],\n",
    ")"
   ]
  },
  {
   "cell_type": "code",
   "execution_count": 16,
   "id": "47423055-4788-4d88-b866-d823e844dd93",
   "metadata": {},
   "outputs": [
    {
     "name": "stderr",
     "output_type": "stream",
     "text": [
      "GPU available: True (cuda), used: True\n",
      "TPU available: False, using: 0 TPU cores\n",
      "IPU available: False, using: 0 IPUs\n",
      "HPU available: False, using: 0 HPUs\n",
      "LOCAL_RANK: 0 - CUDA_VISIBLE_DEVICES: [0,1]\n"
     ]
    },
    {
     "data": {
      "application/vnd.jupyter.widget-view+json": {
       "model_id": "d380a1b86a4f4b1191821ce1adedb6d8",
       "version_major": 2,
       "version_minor": 0
      },
      "text/plain": [
       "Predicting: 0it [00:00, ?it/s]"
      ]
     },
     "metadata": {},
     "output_type": "display_data"
    },
    {
     "data": {
      "image/png": "[encoded data removed]",
      "text/plain": [
       "<Figure size 640x480 with 1 Axes>"
      ]
     },
     "metadata": {},
     "output_type": "display_data"
    }
   ],
   "source": [
    "forecast0_stei = tuned_fit_TCNN0.predict(len(_val))\n",
    "forecast0_stei.plot(label = \"forecast\")\n",
    "_series.plot(label = \"reality\")"
   ]
  },
  {
   "cell_type": "markdown",
   "id": "0842c00a-c23e-420b-acbc-e548402f369a",
   "metadata": {},
   "source": [
    "## Remember after coffee:\n",
    "\n",
    "GPU1.py running on terminal 5, GPU.py (GPU[0]) running on terminal 6 (using marre)"
   ]
  },
  {
   "cell_type": "code",
   "execution_count": 17,
   "id": "c76b6b93-7152-43eb-80e2-40f56aab015e",
   "metadata": {},
   "outputs": [
    {
     "data": {
      "text/plain": [
       "Index(['abundance'], dtype='object', name='component')"
      ]
     },
     "execution_count": 17,
     "metadata": {},
     "output_type": "execute_result"
    }
   ],
   "source": [
    "forecast0_stei.components"
   ]
  },
  {
   "cell_type": "code",
   "execution_count": null,
   "id": "9c6a9a28-23cd-4c4c-9042-6b129c0ed331",
   "metadata": {},
   "outputs": [],
   "source": []
  },
  {
   "cell_type": "code",
   "execution_count": null,
   "id": "009f4eed-2384-4a83-97dc-d1c7eccbf2ec",
   "metadata": {},
   "outputs": [],
   "source": []
  },
  {
   "cell_type": "code",
   "execution_count": null,
   "id": "d7a452a1-9655-47bc-b5b8-fcd1b824c741",
   "metadata": {},
   "outputs": [],
   "source": []
  },
  {
   "cell_type": "code",
   "execution_count": 18,
   "id": "b9730fff-4d8f-45ef-af30-7c1c94eff0bd",
   "metadata": {
    "tags": []
   },
   "outputs": [],
   "source": [
    "def predict(model_class, series, past_covariates = None, lag_past_covariates = None, frac = 0.85, *args, **kwargs):\n",
    "    \"\"\"\n",
    "    model:  forecasting model class\n",
    "    series: full data set (to be divided into fitting data, and validation data)\n",
    "    frac:   fraction of training data to full data\n",
    "    *args, **kwargs: additional parameters of the model\n",
    "    \"\"\"\n",
    "    model = model_class(*args, **kwargs)\n",
    "    train, val = series.split_before(frac)\n",
    "    \n",
    "    print(f\"Fitting {model_class}\")\n",
    "    if past_covariates is not None:\n",
    "        model.fit(train, past_covariates = past_covariates)\n",
    "    else:    \n",
    "        model.fit(train)\n",
    "    forecast = model.predict(len(val))\n",
    "    return val, forecast"
   ]
  },
  {
   "cell_type": "code",
   "execution_count": null,
   "id": "f94371a1-8711-4fbb-89db-55260f78b8e6",
   "metadata": {},
   "outputs": [],
   "source": []
  }
 ],
 "metadata": {
  "kernelspec": {
   "display_name": "Python 3 (ipykernel)",
   "language": "python",
   "name": "python3"
  },
  "language_info": {
   "codemirror_mode": {
    "name": "ipython",
    "version": 3
   },
   "file_extension": ".py",
   "mimetype": "text/x-python",
   "name": "python",
   "nbconvert_exporter": "python",
   "pygments_lexer": "ipython3",
   "version": "3.10.6"
  }
 },
 "nbformat": 4,
 "nbformat_minor": 5
}
