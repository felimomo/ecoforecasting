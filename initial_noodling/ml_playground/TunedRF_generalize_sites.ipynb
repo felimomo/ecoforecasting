{
 "cells": [
  {
   "cell_type": "code",
   "execution_count": 34,
   "id": "2fb5dbab-6346-4c65-a6d0-aa29f8eadb10",
   "metadata": {
    "tags": []
   },
   "outputs": [],
   "source": [
    "import polars as pl\n",
    "import pyarrow.dataset as ds\n",
    "from pyarrow import fs\n",
    "import pandas as pd\n",
    "from datetime import date, timedelta\n",
    "\n",
    "from darts import TimeSeries\n",
    "from darts.utils.missing_values import fill_missing_values\n",
    "from darts.metrics import mse\n",
    "from darts.models import TCNModel, CatBoostModel, NBEATSModel, NLinearModel, RNNModel, ARIMA, TFTModel, RandomForest\n",
    "\n",
    "from pytorch_lightning.callbacks import Callback\n",
    "import torch\n",
    "\n",
    "from pytorch_lightning.callbacks import Callback, EarlyStopping\n",
    "from optuna.integration import PyTorchLightningPruningCallback\n",
    "import optuna\n",
    "\n",
    "import json"
   ]
  },
  {
   "cell_type": "markdown",
   "id": "218e814d-37eb-4879-93aa-ff10ca12624f",
   "metadata": {},
   "source": [
    "# Links"
   ]
  },
  {
   "cell_type": "code",
   "execution_count": 2,
   "id": "febb88d1-52b2-43de-a0cf-9b547e8933bb",
   "metadata": {
    "tags": []
   },
   "outputs": [],
   "source": [
    "aquatic_link = \"https://data.ecoforecast.org/neon4cast-targets/aquatics/aquatics-expanded-observations.csv.gz\"\n",
    "terrestrial_link = \"https://data.ecoforecast.org/neon4cast-targets/terrestrial_30min/terrestrial_30min-targets.csv.gz\"\n",
    "tick_link = \"https://data.ecoforecast.org/neon4cast-targets/ticks/ticks-targets.csv.gz\"\n",
    "phenology_link = \"https://data.ecoforecast.org/neon4cast-targets/phenology/phenology-targets.csv.gz\"\n",
    "beetle_link = \"https://data.ecoforecast.org/neon4cast-targets/beetles/beetles-targets.csv.gz\""
   ]
  },
  {
   "cell_type": "markdown",
   "id": "82963356-661c-42aa-9834-cab04e52805e",
   "metadata": {},
   "source": [
    "# Data-processing utility functions"
   ]
  },
  {
   "cell_type": "code",
   "execution_count": 9,
   "id": "bdb4167d-2b05-44d9-895c-3812e2eeea6e",
   "metadata": {
    "tags": []
   },
   "outputs": [],
   "source": [
    "def NOAA_stage3_scan(\n",
    "    site_id:str = \"TREE\", \n",
    "    variable:str = \"TMP\"\n",
    "):\n",
    "    s3 = fs.S3FileSystem(endpoint_override = \"data.ecoforecast.org\", anonymous = True)\n",
    "    path = \"neon4cast-drivers/noaa/gefs-v12/stage3/parquet\"\n",
    "    dataset = ds.dataset(path, filesystem=s3)\n",
    "    return (\n",
    "        pl.scan_pyarrow_dataset(dataset)\n",
    "        .filter(pl.col(\"site_id\") == site_id)\n",
    "        .filter(\n",
    "          (pl.col(\"variable\") == variable)\n",
    "        )\n",
    "        .collect()\n",
    "        # .pivot(index = \"datetime\", columns = \"variable\", values = \"prediction\")\n",
    "    )\n",
    "\n",
    "def get_noaa(\n",
    "    site_id = \"KONZ\",\n",
    "    day_avg = True,\n",
    "    freq = \"D\"\n",
    "):\n",
    "    s3 = fs.S3FileSystem(endpoint_override = \"data.ecoforecast.org\", anonymous = True)\n",
    "    path = f\"neon4cast-drivers/noaa/gefs-v12/stage3/parquet/\"\n",
    "    dataset = ds.dataset(path, filesystem=s3, partitioning=[\"site_id\"])\n",
    "\n",
    "    historic_noaa_full = pl.scan_pyarrow_dataset(dataset) \n",
    "\n",
    "    # specialize to a given site, go to pivot\n",
    "    historic_noaa = (\n",
    "        historic_noaa_full\n",
    "        .filter(pl.col(\"site_id\") == site_id)\n",
    "        .collect()\n",
    "        .pivot(index = \"datetime\", columns = \"variable\", values = \"prediction\")\n",
    "    )\n",
    "    # historic_noaa[\"datetime\"] = pd.to_datetime(historic_noaa[\"datetime\"])\n",
    "    # historic_noaa.with_columns(pl.col(\"datetime\").cast(pl.Datetime).alias(\"datetime\"))\n",
    "\n",
    "    # thin out\n",
    "    historic_noaa = historic_noaa[[\"datetime\", \"air_temperature\", \"air_pressure\", \"precipitation_flux\", \"relative_humidity\"]]\n",
    "\n",
    "    # optionally day-average:\n",
    "    if day_avg:\n",
    "        freq = \"D\" # override input as safety because only \"D\" makes sense here\n",
    "        historic_noaa_daily = day_mean_several(\n",
    "            historic_noaa, \n",
    "            [\"air_temperature\", \"air_pressure\", \"precipitation_flux\", \"relative_humidity\"]\n",
    "        )\n",
    "        historic_noaa_daily.columns = [\"date\", \"tmp_avg\", \"pressure_avg\", \"precip_flux_avg\", \"rel_humidity_avg\"]\n",
    "        return fill_missing_values( \n",
    "            pl_to_series(\n",
    "                historic_noaa_daily, time_col = \"date\", freq = freq\n",
    "            )\n",
    "        )\n",
    "    \n",
    "    return fill_missing_values(\n",
    "        pl_to_series(\n",
    "            historic_noaa, time_col = \"datetime\", freq = freq\n",
    "        )\n",
    "    )\n",
    "\n",
    "def day_mean(df, var_to_avg = \"TMP\", time_col = \"datetime\", avg_name = \"TMP_day_avg\"):\n",
    "    \"\"\"\n",
    "    averages values of the column given over the course of a day\n",
    "    \"\"\"\n",
    "    return (\n",
    "        df\n",
    "        .with_columns(pl.col(time_col).cast(pl.Date).alias(\"date\"))\n",
    "        .groupby(\"date\")\n",
    "        .agg(\n",
    "            [\n",
    "                pl.col(var_to_avg).mean().alias(avg_name)\n",
    "            ]\n",
    "        )\n",
    "        .sort(\"date\")\n",
    "    )\n",
    "\n",
    "def day_mean_several(df, var_names, time_col = \"datetime\", avg_name_app = \"day_avg\"):\n",
    "    \"\"\"\n",
    "    averages values of the column given over the course of a day\n",
    "    \"\"\"\n",
    "    return (\n",
    "        df\n",
    "        .with_columns(pl.col(time_col).cast(pl.Date).alias(\"date\"))\n",
    "        .groupby(\"date\")\n",
    "        .agg(\n",
    "            [\n",
    "                pl.col(var).mean().alias(\"_\".join([var,avg_name_app])) for var in var_names\n",
    "            ]\n",
    "        )\n",
    "        .sort(\"date\")\n",
    "    )\n",
    "\n",
    "def pl_to_series(df, time_col = \"date\", freq = \"D\"):\n",
    "    \"\"\"\n",
    "    input: polars dataframe\n",
    "    output: corresponding darts.TimeSeries\n",
    "    \n",
    "    for now the easiest thing is to use pandas as a middle-man.\n",
    "    \"\"\"\n",
    "    pd_df = df.to_pandas()\n",
    "    pd_df[time_col] = pd.to_datetime(pd_df[time_col]).dt.tz_localize(None)\n",
    "    return (\n",
    "        TimeSeries.from_dataframe(\n",
    "            pd_df,\n",
    "            time_col = time_col,\n",
    "            freq = freq,\n",
    "        )\n",
    "    )\n",
    "\n",
    "def read_neon(\n",
    "    site_id, \n",
    "    time_col = \"datetime\", \n",
    "    link = \"https://data.ecoforecast.org/neon4cast-targets/beetles/beetles-targets.csv.gz\",\n",
    "):\n",
    "    site_data = pd.read_csv(link)\n",
    "    site_data[time_col] = pd.to_datetime(site_data[\"datetime\"]).dt.tz_localize(None)\n",
    "    return (\n",
    "        site_data\n",
    "        .loc[site_data[\"site_id\"] == site_id]\n",
    "    )\n",
    "\n",
    "\n",
    "def inspect_variables(\n",
    "    link,\n",
    "    var_col_names = [\"variable\"],\n",
    "):\n",
    "    site_data = pd.read_csv(link)\n",
    "    print(f\"inspect_variables: FYI, the columns are {site_data.columns}\")\n",
    "    return (\n",
    "        {\n",
    "            var: f\"{site_data[var].unique()}\".replace(\"\\n\",\"\") for var in var_col_names\n",
    "        }\n",
    "    )"
   ]
  },
  {
   "cell_type": "code",
   "execution_count": 4,
   "id": "bd99f2bc-e92c-4940-97e7-c6a553a8514f",
   "metadata": {
    "tags": []
   },
   "outputs": [],
   "source": [
    "def quick_neon_series(\n",
    "    site_id,\n",
    "    link = terrestrial_link,\n",
    "    freq = \"D\",\n",
    "    time_col = \"datetime\",\n",
    "    day_avg: bool = False,\n",
    "    start_date = pd.Timestamp(\"2020-09-25\"),\n",
    "):\n",
    "    # pandas\n",
    "    data = read_neon(\n",
    "        site_id = site_id, \n",
    "        time_col = time_col, \n",
    "        link = link,\n",
    "    )\n",
    "    \n",
    "    # polars\n",
    "    data_pl = pl.from_pandas(\n",
    "        data\n",
    "        .pivot(index = time_col, columns = \"variable\", values = \"observation\")\n",
    "        .reset_index()\n",
    "    )\n",
    "    \n",
    "    # optional average\n",
    "    if day_avg:\n",
    "        freq = \"D\" # override user-set frequency\n",
    "        data_pl = day_mean_several(\n",
    "            data_pl, \n",
    "            data[\"variable\"].unique(), \n",
    "            time_col = time_col, \n",
    "            avg_name_app = \"day_avg\",\n",
    "        )\n",
    "        time_col = \"date\"\n",
    "    \n",
    "    # darts\n",
    "    data_series = fill_missing_values(\n",
    "        pl_to_series(data_pl, time_col = time_col, freq = freq)\n",
    "    )\n",
    "    \n",
    "    # split\n",
    "    pre, data_series_out = data_series.split_before(start_date)\n",
    "    \n",
    "    return data_series_out"
   ]
  },
  {
   "cell_type": "markdown",
   "id": "baf1bd34-a513-4549-95e7-380de5f04581",
   "metadata": {},
   "source": [
    "# Globals\n"
   ]
  },
  {
   "cell_type": "code",
   "execution_count": 325,
   "id": "ed57dcea-8fa6-49d4-8fb9-cbc709389064",
   "metadata": {
    "tags": []
   },
   "outputs": [],
   "source": [
    "SITE = \"OAES\"\n",
    "COVARIATE_SITES = [\"CLBJ\", \"DELA\", \"JORN\"] # [\"KONZ\", \"KONA\"] ## just for memory"
   ]
  },
  {
   "cell_type": "markdown",
   "id": "f197ddb5-75df-425b-aa44-fa29a6d555b6",
   "metadata": {},
   "source": [
    "# Get NEON"
   ]
  },
  {
   "cell_type": "code",
   "execution_count": 326,
   "id": "5ca3d10a-6f2b-4a1a-83ac-359af4a296d1",
   "metadata": {
    "tags": []
   },
   "outputs": [],
   "source": [
    "neon_series = quick_neon_series(\n",
    "    site_id = SITE,\n",
    "    link = terrestrial_link,\n",
    "    freq = \"D\",\n",
    "    time_col = \"datetime\",\n",
    "    day_avg= True,\n",
    ")\n",
    "\n",
    "neon_covariate_list = [\n",
    "    quick_neon_series(\n",
    "        site_id = site,\n",
    "        link = terrestrial_link,\n",
    "        freq = \"D\",\n",
    "        time_col = \"datetime\",\n",
    "        day_avg= True,\n",
    "    )\n",
    "    for site in COVARIATE_SITES\n",
    "]"
   ]
  },
  {
   "cell_type": "code",
   "execution_count": 327,
   "id": "f526f0f0-4572-43f8-bcab-320e72fb5786",
   "metadata": {
    "tags": []
   },
   "outputs": [],
   "source": [
    "# neon_covariate_list"
   ]
  },
  {
   "cell_type": "markdown",
   "id": "93007a59-78d1-43e2-9960-69bbb35ae73c",
   "metadata": {},
   "source": [
    "# Get NOAA"
   ]
  },
  {
   "cell_type": "code",
   "execution_count": 328,
   "id": "ef7166a1-14d2-40c1-8016-618386f0642d",
   "metadata": {
    "tags": []
   },
   "outputs": [],
   "source": [
    "noaa_covariates = get_noaa(site_id = SITE)"
   ]
  },
  {
   "cell_type": "code",
   "execution_count": 329,
   "id": "f3d35255-caa7-469c-b517-4cac59837a09",
   "metadata": {
    "tags": []
   },
   "outputs": [],
   "source": [
    "# noaa_covariates.columns"
   ]
  },
  {
   "cell_type": "code",
   "execution_count": 330,
   "id": "70ebf1fe-2326-4a62-a0df-98c1943da1a5",
   "metadata": {
    "tags": []
   },
   "outputs": [],
   "source": [
    "# noaa_covariates['rel_humidity_avg'].plot()"
   ]
  },
  {
   "cell_type": "markdown",
   "id": "f967f72d-130b-4314-9540-e459680ffb30",
   "metadata": {},
   "source": [
    "# Cut-n-box"
   ]
  },
  {
   "cell_type": "markdown",
   "id": "9d416957-d84d-44ce-b632-4c11cad0c168",
   "metadata": {},
   "source": [
    "#### Cut"
   ]
  },
  {
   "cell_type": "code",
   "execution_count": 331,
   "id": "3536b566-c15d-432c-85b4-44a4be53f1f8",
   "metadata": {
    "tags": []
   },
   "outputs": [],
   "source": [
    "date_cutoff = pd.Timestamp(\"2023-02-20\")\n",
    "\n",
    "# NEON MAIN SERIES\n",
    "neon_train, neon_val = neon_series.split_before(date_cutoff)\n",
    "\n",
    "# NOAA COV\n",
    "past_noaa, future_noaa = noaa_covariates.split_before(date_cutoff)\n",
    "\n",
    "# NEON COV\n",
    "if len(neon_covariate_list) > 0:\n",
    "    past_future_neon_covariates = list(\n",
    "        zip(*[neon_covariate.split_before(date_cutoff) for neon_covariate in neon_covariate_list])\n",
    "    )\n",
    "    past_neon_covariate_list = list(past_future_neon_covariates[0])\n",
    "    future_neon_covariate_list = list(past_future_neon_covariates[1])\n",
    "else:\n",
    "    past_neon_covariate_list = []"
   ]
  },
  {
   "cell_type": "code",
   "execution_count": 332,
   "id": "e91eec51-2b5b-4248-b8f2-181aabfc78a6",
   "metadata": {
    "tags": []
   },
   "outputs": [],
   "source": [
    "# past_neon_covariate_list"
   ]
  },
  {
   "cell_type": "code",
   "execution_count": 333,
   "id": "84607e88-14d3-460b-806d-9823fb556228",
   "metadata": {
    "tags": []
   },
   "outputs": [],
   "source": [
    "# # example for how NEON COV works:\n",
    "\n",
    "# a = list(zip(*[(\"a\", \"b\"), (\"c\", \"d\"), (\"e\", \"f\")]))\n",
    "# list(a[0])"
   ]
  },
  {
   "cell_type": "markdown",
   "id": "9347050e-5942-47f6-8b1d-d9cdbbbee6c7",
   "metadata": {},
   "source": [
    "#### Box"
   ]
  },
  {
   "cell_type": "code",
   "execution_count": 334,
   "id": "bbbabcd9-f543-4e35-9157-4ec49496ba81",
   "metadata": {
    "tags": []
   },
   "outputs": [],
   "source": [
    "covariates = past_noaa\n",
    "for cov in past_neon_covariate_list:\n",
    "    covariates = covariates.concatenate(cov, axis = \"component\")"
   ]
  },
  {
   "cell_type": "code",
   "execution_count": 335,
   "id": "76b465ca-7ba5-49ff-af39-cce3de274ccc",
   "metadata": {
    "tags": []
   },
   "outputs": [],
   "source": [
    "# covariates.columns"
   ]
  },
  {
   "cell_type": "markdown",
   "id": "0cbf772f-346b-4a85-bcaa-66f0ef08ac5d",
   "metadata": {},
   "source": [
    "# Fit"
   ]
  },
  {
   "cell_type": "code",
   "execution_count": 336,
   "id": "71d1e2fa-0ad4-47a6-b041-eed57d8f1167",
   "metadata": {
    "tags": []
   },
   "outputs": [],
   "source": [
    "rf = RandomForest(\n",
    "    output_chunk_length = 32,\n",
    "    lags=78,\n",
    "    lags_past_covariates=64,\n",
    "    n_estimators=116,\n",
    "    max_depth=9,\n",
    ")"
   ]
  },
  {
   "cell_type": "code",
   "execution_count": 337,
   "id": "391528e1-cf5f-41df-8b42-1805a5af1bad",
   "metadata": {
    "tags": []
   },
   "outputs": [
    {
     "data": {
      "text/plain": [
       "<darts.models.forecasting.random_forest.RandomForest at 0x7f401d19d4e0>"
      ]
     },
     "execution_count": 337,
     "metadata": {},
     "output_type": "execute_result"
    }
   ],
   "source": [
    "rf.fit(\n",
    "    series = neon_train,\n",
    "    past_covariates = covariates,\n",
    ")"
   ]
  },
  {
   "cell_type": "code",
   "execution_count": 338,
   "id": "dc77eefd-d88a-4c68-9b86-b78c5c3c7536",
   "metadata": {
    "tags": []
   },
   "outputs": [],
   "source": [
    "forecast = rf.predict(len(neon_val))"
   ]
  },
  {
   "cell_type": "markdown",
   "id": "d3eaec6a-2d3b-45ce-b0f6-31295ff1bc5e",
   "metadata": {},
   "source": [
    "# Plot"
   ]
  },
  {
   "cell_type": "code",
   "execution_count": 339,
   "id": "c35a808f-52bc-40cc-96f0-adfffd27ad71",
   "metadata": {
    "tags": []
   },
   "outputs": [],
   "source": [
    "neon_pre, neon_plt = neon_series.split_before(pd.Timestamp(\"2022-10-01\"))\n"
   ]
  },
  {
   "cell_type": "code",
   "execution_count": 342,
   "id": "cae0a8ca-a89f-48a0-9c53-e42a590eb7cf",
   "metadata": {
    "tags": []
   },
   "outputs": [
    {
     "data": {
      "image/png": "[encoded data removed]",
      "text/plain": [
       "<Figure size 640x480 with 1 Axes>"
      ]
     },
     "metadata": {},
     "output_type": "display_data"
    }
   ],
   "source": [
    "neon_plt['le_day_avg'].plot(label = \"validation\")\n",
    "# neon_val['le_day_avg'].plot(label = \"validation\")\n",
    "# neon_series['le_day_avg'].plot(label = \"validation\")\n",
    "forecast['le_day_avg'].plot(label = \"forecast\")"
   ]
  },
  {
   "cell_type": "code",
   "execution_count": 341,
   "id": "f7399472-daeb-4ca9-a4ec-636e8acd755b",
   "metadata": {
    "tags": []
   },
   "outputs": [
    {
     "data": {
      "image/png": "[encoded data removed]",
      "text/plain": [
       "<Figure size 640x480 with 1 Axes>"
      ]
     },
     "metadata": {},
     "output_type": "display_data"
    }
   ],
   "source": [
    "neon_plt['nee_day_avg'].plot(label = \"validation\")\n",
    "# neon_val['nee_day_avg'].plot(label = \"validation\")\n",
    "forecast['nee_day_avg'].plot(label = \"forecast\")"
   ]
  },
  {
   "cell_type": "code",
   "execution_count": null,
   "id": "76c0f137-827f-424c-bb44-8edabe0da601",
   "metadata": {},
   "outputs": [],
   "source": []
  },
  {
   "cell_type": "code",
   "execution_count": null,
   "id": "e4df2aa4-4410-45fc-9231-5a821c8c8fe7",
   "metadata": {},
   "outputs": [],
   "source": []
  },
  {
   "cell_type": "code",
   "execution_count": null,
   "id": "041686cc-ec2b-4566-8807-100a59d7a938",
   "metadata": {},
   "outputs": [],
   "source": []
  },
  {
   "cell_type": "code",
   "execution_count": null,
   "id": "a9a4c156-3e0d-4546-bde9-5b4f07b0bcc4",
   "metadata": {},
   "outputs": [],
   "source": []
  },
  {
   "cell_type": "code",
   "execution_count": null,
   "id": "5bd35d80-4572-4b79-884e-685324652443",
   "metadata": {
    "tags": []
   },
   "outputs": [],
   "source": []
  },
  {
   "cell_type": "code",
   "execution_count": null,
   "id": "1832d2bd-42af-4086-b870-e87c2881413f",
   "metadata": {},
   "outputs": [],
   "source": []
  },
  {
   "cell_type": "markdown",
   "id": "1f058a6a-8b15-47a6-b1af-a40e49af633f",
   "metadata": {},
   "source": [
    "# Notes:\n",
    "\n",
    "- MLBS has an outlier that screws up the predictions. Data pre-processing to detect and remove outliers might be useful in sites like this one.  \n",
    "- OSBS, TALL missing quite a bit of data close to spring. Some sites may have missing data around the dates we want to do predictions. What is better: to include neighbors as covariates to \"add\" more predictors in for the missing data, or to stack them all as a single timeseries with multiple variables?"
   ]
  },
  {
   "cell_type": "code",
   "execution_count": null,
   "id": "eb56755b-0f03-46b3-bdc8-1011e4388d75",
   "metadata": {},
   "outputs": [],
   "source": []
  }
 ],
 "metadata": {
  "kernelspec": {
   "display_name": "Python 3 (ipykernel)",
   "language": "python",
   "name": "python3"
  },
  "language_info": {
   "codemirror_mode": {
    "name": "ipython",
    "version": 3
   },
   "file_extension": ".py",
   "mimetype": "text/x-python",
   "name": "python",
   "nbconvert_exporter": "python",
   "pygments_lexer": "ipython3",
   "version": "3.10.6"
  }
 },
 "nbformat": 4,
 "nbformat_minor": 5
}
