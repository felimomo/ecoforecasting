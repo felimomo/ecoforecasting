{
 "cells": [
  {
   "cell_type": "code",
   "execution_count": 37,
   "id": "bd95a9f7-4a41-41b3-9627-7c597c96ac8e",
   "metadata": {
    "tags": []
   },
   "outputs": [],
   "source": [
    "import  polars as pl\n",
    "import pyarrow.dataset as ds\n",
    "from pyarrow import fs\n",
    "import pandas as pd"
   ]
  },
  {
   "cell_type": "code",
   "execution_count": 2,
   "id": "b5088399-1b01-44f8-8236-fd51dcfbff17",
   "metadata": {
    "tags": []
   },
   "outputs": [],
   "source": [
    "s3 = fs.S3FileSystem(endpoint_override = \"data.ecoforecast.org\", anonymous = True)\n"
   ]
  },
  {
   "cell_type": "code",
   "execution_count": 11,
   "id": "ffc96d5e-e0c2-40e1-b8d5-463ccc73c13a",
   "metadata": {
    "tags": []
   },
   "outputs": [],
   "source": [
    "date = \"2023-03-21\"\n",
    "path = f\"neon4cast-drivers/noaa/gefs-v12/stage1/0/{date}\"\n",
    "dataset = ds.dataset(path, filesystem=s3)\n",
    "today_noaa = pl.scan_pyarrow_dataset(dataset)"
   ]
  },
  {
   "cell_type": "code",
   "execution_count": 117,
   "id": "ca86f682-fde1-407e-a3ae-faed08e18a25",
   "metadata": {
    "tags": []
   },
   "outputs": [
    {
     "data": {
      "text/html": [
       "<div><style>\n",
       ".dataframe > thead > tr > th,\n",
       ".dataframe > tbody > tr > td {\n",
       "  text-align: right;\n",
       "}\n",
       "</style>\n",
       "<small>shape: (181,)</small><table border=\"1\" class=\"dataframe\"><thead><tr><th>datetime</th></tr><tr><td>datetime[μs, UTC]</td></tr></thead><tbody><tr><td>2023-03-21 00:00:00 UTC</td></tr><tr><td>2023-03-21 03:00:00 UTC</td></tr><tr><td>2023-03-21 06:00:00 UTC</td></tr><tr><td>2023-03-21 09:00:00 UTC</td></tr><tr><td>2023-03-21 12:00:00 UTC</td></tr><tr><td>2023-03-21 15:00:00 UTC</td></tr><tr><td>2023-03-21 18:00:00 UTC</td></tr><tr><td>2023-03-21 21:00:00 UTC</td></tr><tr><td>2023-03-22 00:00:00 UTC</td></tr><tr><td>2023-03-22 03:00:00 UTC</td></tr><tr><td>2023-03-22 06:00:00 UTC</td></tr><tr><td>2023-03-22 09:00:00 UTC</td></tr><tr><td>&hellip;</td></tr><tr><td>2023-04-22 06:00:00 UTC</td></tr><tr><td>2023-04-22 12:00:00 UTC</td></tr><tr><td>2023-04-22 18:00:00 UTC</td></tr><tr><td>2023-04-23 00:00:00 UTC</td></tr><tr><td>2023-04-23 06:00:00 UTC</td></tr><tr><td>2023-04-23 12:00:00 UTC</td></tr><tr><td>2023-04-23 18:00:00 UTC</td></tr><tr><td>2023-04-24 00:00:00 UTC</td></tr><tr><td>2023-04-24 06:00:00 UTC</td></tr><tr><td>2023-04-24 12:00:00 UTC</td></tr><tr><td>2023-04-24 18:00:00 UTC</td></tr><tr><td>2023-04-25 00:00:00 UTC</td></tr></tbody></table></div>"
      ],
      "text/plain": [
       "shape: (181,)\n",
       "Series: 'datetime' [datetime[μs, UTC]]\n",
       "[\n",
       "\t2023-03-21 00:00:00 UTC\n",
       "\t2023-03-21 03:00:00 UTC\n",
       "\t2023-03-21 06:00:00 UTC\n",
       "\t2023-03-21 09:00:00 UTC\n",
       "\t2023-03-21 12:00:00 UTC\n",
       "\t2023-03-21 15:00:00 UTC\n",
       "\t2023-03-21 18:00:00 UTC\n",
       "\t2023-03-21 21:00:00 UTC\n",
       "\t2023-03-22 00:00:00 UTC\n",
       "\t2023-03-22 03:00:00 UTC\n",
       "\t2023-03-22 06:00:00 UTC\n",
       "\t2023-03-22 09:00:00 UTC\n",
       "\t…\n",
       "\t2023-04-22 00:00:00 UTC\n",
       "\t2023-04-22 06:00:00 UTC\n",
       "\t2023-04-22 12:00:00 UTC\n",
       "\t2023-04-22 18:00:00 UTC\n",
       "\t2023-04-23 00:00:00 UTC\n",
       "\t2023-04-23 06:00:00 UTC\n",
       "\t2023-04-23 12:00:00 UTC\n",
       "\t2023-04-23 18:00:00 UTC\n",
       "\t2023-04-24 00:00:00 UTC\n",
       "\t2023-04-24 06:00:00 UTC\n",
       "\t2023-04-24 12:00:00 UTC\n",
       "\t2023-04-24 18:00:00 UTC\n",
       "\t2023-04-25 00:00:00 UTC\n",
       "]"
      ]
     },
     "execution_count": 117,
     "metadata": {},
     "output_type": "execute_result"
    }
   ],
   "source": [
    "df = (today_noaa\n",
    "  .filter(pl.col(\"site_id\") == \"BART\")\n",
    "  .filter(\n",
    "      (pl.col(\"variable\") == \"TMP\")\n",
    "         )\n",
    "  .collect()\n",
    " )\n",
    "# df[\"variable\"].unique()"
   ]
  },
  {
   "cell_type": "code",
   "execution_count": 116,
   "id": "3bcee1ef-6c2d-458a-bae7-cf6de6f8a36f",
   "metadata": {
    "tags": []
   },
   "outputs": [
    {
     "data": {
      "text/html": [
       "<div><style>\n",
       ".dataframe > thead > tr > th,\n",
       ".dataframe > tbody > tr > td {\n",
       "  text-align: right;\n",
       "}\n",
       "</style>\n",
       "<small>shape: (10, 2)</small><table border=\"1\" class=\"dataframe\"><thead><tr><th>datetime</th><th>TMP</th></tr><tr><td>datetime[μs, UTC]</td><td>f64</td></tr></thead><tbody><tr><td>2023-03-21 00:00:00 UTC</td><td>-2.227118</td></tr><tr><td>2023-03-21 03:00:00 UTC</td><td>-4.059882</td></tr><tr><td>2023-03-21 06:00:00 UTC</td><td>-4.694739</td></tr><tr><td>2023-03-21 09:00:00 UTC</td><td>-5.266425</td></tr><tr><td>2023-03-21 12:00:00 UTC</td><td>-2.777747</td></tr><tr><td>2023-03-21 15:00:00 UTC</td><td>2.53103</td></tr><tr><td>2023-03-21 18:00:00 UTC</td><td>4.445459</td></tr><tr><td>2023-03-21 21:00:00 UTC</td><td>3.60708</td></tr><tr><td>2023-03-22 00:00:00 UTC</td><td>-0.925391</td></tr><tr><td>2023-03-22 03:00:00 UTC</td><td>-3.281104</td></tr></tbody></table></div>"
      ],
      "text/plain": [
       "shape: (10, 2)\n",
       "┌─────────────────────────┬───────────┐\n",
       "│ datetime                ┆ TMP       │\n",
       "│ ---                     ┆ ---       │\n",
       "│ datetime[μs, UTC]       ┆ f64       │\n",
       "╞═════════════════════════╪═══════════╡\n",
       "│ 2023-03-21 00:00:00 UTC ┆ -2.227118 │\n",
       "│ 2023-03-21 03:00:00 UTC ┆ -4.059882 │\n",
       "│ 2023-03-21 06:00:00 UTC ┆ -4.694739 │\n",
       "│ 2023-03-21 09:00:00 UTC ┆ -5.266425 │\n",
       "│ …                       ┆ …         │\n",
       "│ 2023-03-21 18:00:00 UTC ┆ 4.445459  │\n",
       "│ 2023-03-21 21:00:00 UTC ┆ 3.60708   │\n",
       "│ 2023-03-22 00:00:00 UTC ┆ -0.925391 │\n",
       "│ 2023-03-22 03:00:00 UTC ┆ -3.281104 │\n",
       "└─────────────────────────┴───────────┘"
      ]
     },
     "execution_count": 116,
     "metadata": {},
     "output_type": "execute_result"
    }
   ],
   "source": [
    "# today_noaa.filter( (pl.col(\"variable\") == \"APCP\") | (pl.col(\"variable\") == \"TMP\") ).collect()\n",
    "thin_df_wnulls = df.pivot(index = \"datetime\", columns = \"variable\", values = \"prediction\")\n",
    "thin_df = df.pivot(index = \"datetime\", columns = \"variable\", values = \"prediction\").drop_nulls()\n",
    "thin_df.head(10)"
   ]
  },
  {
   "cell_type": "code",
   "execution_count": 76,
   "id": "e6c7bf6b-dd35-4a1d-bd36-7314e19ecbcb",
   "metadata": {
    "tags": []
   },
   "outputs": [],
   "source": [
    "thin_df_wdate = thin_df.with_columns(pl.col(\"datetime\").cast(pl.Date).alias(\"date\"))"
   ]
  },
  {
   "cell_type": "code",
   "execution_count": 86,
   "id": "d53e244a-da1a-4194-82e7-b36567e9d0e4",
   "metadata": {
    "tags": []
   },
   "outputs": [
    {
     "data": {
      "text/html": [
       "<div><style>\n",
       ".dataframe > thead > tr > th,\n",
       ".dataframe > tbody > tr > td {\n",
       "  text-align: right;\n",
       "}\n",
       "</style>\n",
       "<small>shape: (15, 3)</small><table border=\"1\" class=\"dataframe\"><thead><tr><th>date</th><th>TMP_daymean</th><th>APCP_daymean</th></tr><tr><td>date</td><td>f64</td><td>f64</td></tr></thead><tbody><tr><td>2023-03-21</td><td>-1.313536</td><td>0.1</td></tr><tr><td>2023-03-22</td><td>-1.262198</td><td>0.01</td></tr><tr><td>2023-03-23</td><td>0.858568</td><td>1.175</td></tr><tr><td>2023-03-24</td><td>1.504335</td><td>0.1225</td></tr><tr><td>2023-03-25</td><td>-2.077788</td><td>0.8025</td></tr><tr><td>2023-03-26</td><td>-1.22531</td><td>1.705</td></tr><tr><td>2023-03-27</td><td>-1.065504</td><td>0.2475</td></tr><tr><td>2023-03-28</td><td>-1.62847</td><td>0.1575</td></tr><tr><td>2023-03-29</td><td>-1.34632</td><td>3.8625</td></tr><tr><td>2023-03-30</td><td>-1.359007</td><td>0.445</td></tr><tr><td>2023-03-31</td><td>-5.686919</td><td>1.05</td></tr><tr><td>2023-04-01</td><td>-6.411284</td><td>0.075</td></tr><tr><td>2023-04-02</td><td>-2.817328</td><td>2.9925</td></tr><tr><td>2023-04-03</td><td>1.759172</td><td>4.6</td></tr><tr><td>2023-04-04</td><td>2.170381</td><td>0.325</td></tr></tbody></table></div>"
      ],
      "text/plain": [
       "shape: (15, 3)\n",
       "┌────────────┬─────────────┬──────────────┐\n",
       "│ date       ┆ TMP_daymean ┆ APCP_daymean │\n",
       "│ ---        ┆ ---         ┆ ---          │\n",
       "│ date       ┆ f64         ┆ f64          │\n",
       "╞════════════╪═════════════╪══════════════╡\n",
       "│ 2023-03-21 ┆ -1.313536   ┆ 0.1          │\n",
       "│ 2023-03-22 ┆ -1.262198   ┆ 0.01         │\n",
       "│ 2023-03-23 ┆ 0.858568    ┆ 1.175        │\n",
       "│ 2023-03-24 ┆ 1.504335    ┆ 0.1225       │\n",
       "│ …          ┆ …           ┆ …            │\n",
       "│ 2023-04-01 ┆ -6.411284   ┆ 0.075        │\n",
       "│ 2023-04-02 ┆ -2.817328   ┆ 2.9925       │\n",
       "│ 2023-04-03 ┆ 1.759172    ┆ 4.6          │\n",
       "│ 2023-04-04 ┆ 2.170381    ┆ 0.325        │\n",
       "└────────────┴─────────────┴──────────────┘"
      ]
     },
     "execution_count": 86,
     "metadata": {},
     "output_type": "execute_result"
    }
   ],
   "source": [
    "date_averaged_df = (\n",
    "    thin_df_wdate\n",
    "    .groupby(\"date\")\n",
    "    .agg(\n",
    "        [\n",
    "            pl.col(\"TMP\").mean().alias(\"TMP_daymean\"),\n",
    "            pl.col(\"APCP\").mean().alias(\"APCP_daymean\")\n",
    "        ]\n",
    "    )\n",
    "    .sort(\"date\")\n",
    ")\n",
    "date_averaged_df.head(15)"
   ]
  },
  {
   "cell_type": "code",
   "execution_count": 87,
   "id": "b9a81b90-f377-4f53-a7dd-6cfe6951b6e9",
   "metadata": {
    "tags": []
   },
   "outputs": [
    {
     "data": {
      "text/plain": [
       "polars.dataframe.frame.DataFrame"
      ]
     },
     "execution_count": 87,
     "metadata": {},
     "output_type": "execute_result"
    }
   ],
   "source": [
    "type(date_averaged_df)"
   ]
  },
  {
   "cell_type": "code",
   "execution_count": 97,
   "id": "6d2ba01b-01b1-4471-b78c-e3a8e7473883",
   "metadata": {
    "tags": []
   },
   "outputs": [],
   "source": [
    "import darts\n",
    "\n",
    "pandas_date_averaged = date_averaged_df.to_pandas()\n",
    "pandas_date_averaged[\"date\"] = pd.to_datetime(pandas_date_averaged[\"date\"])\n",
    "pandas_date_averaged[\"date\"][0]\n",
    "\n",
    "NOAA_covariates = darts.TimeSeries.from_dataframe(\n",
    "    pandas_date_averaged,\n",
    "    time_col = \"date\",\n",
    "    freq = \"D\",\n",
    ")"
   ]
  },
  {
   "cell_type": "code",
   "execution_count": 104,
   "id": "07e2e2a2-05a4-4dc6-bd58-2c6b2f604c3a",
   "metadata": {
    "tags": []
   },
   "outputs": [
    {
     "data": {
      "text/html": [
       "<div>\n",
       "<style scoped>\n",
       "    .dataframe tbody tr th:only-of-type {\n",
       "        vertical-align: middle;\n",
       "    }\n",
       "\n",
       "    .dataframe tbody tr th {\n",
       "        vertical-align: top;\n",
       "    }\n",
       "\n",
       "    .dataframe thead th {\n",
       "        text-align: right;\n",
       "    }\n",
       "</style>\n",
       "<table border=\"1\" class=\"dataframe\">\n",
       "  <thead>\n",
       "    <tr style=\"text-align: right;\">\n",
       "      <th>component</th>\n",
       "      <th>TMP_daymean</th>\n",
       "      <th>APCP_daymean</th>\n",
       "    </tr>\n",
       "    <tr>\n",
       "      <th>date</th>\n",
       "      <th></th>\n",
       "      <th></th>\n",
       "    </tr>\n",
       "  </thead>\n",
       "  <tbody>\n",
       "    <tr>\n",
       "      <th>2023-03-21</th>\n",
       "      <td>-1.313536</td>\n",
       "      <td>0.1000</td>\n",
       "    </tr>\n",
       "    <tr>\n",
       "      <th>2023-03-22</th>\n",
       "      <td>-1.262198</td>\n",
       "      <td>0.0100</td>\n",
       "    </tr>\n",
       "    <tr>\n",
       "      <th>2023-03-23</th>\n",
       "      <td>0.858568</td>\n",
       "      <td>1.1750</td>\n",
       "    </tr>\n",
       "    <tr>\n",
       "      <th>2023-03-24</th>\n",
       "      <td>1.504335</td>\n",
       "      <td>0.1225</td>\n",
       "    </tr>\n",
       "    <tr>\n",
       "      <th>2023-03-25</th>\n",
       "      <td>-2.077788</td>\n",
       "      <td>0.8025</td>\n",
       "    </tr>\n",
       "    <tr>\n",
       "      <th>2023-03-26</th>\n",
       "      <td>-1.225310</td>\n",
       "      <td>1.7050</td>\n",
       "    </tr>\n",
       "    <tr>\n",
       "      <th>2023-03-27</th>\n",
       "      <td>-1.065504</td>\n",
       "      <td>0.2475</td>\n",
       "    </tr>\n",
       "    <tr>\n",
       "      <th>2023-03-28</th>\n",
       "      <td>-1.628470</td>\n",
       "      <td>0.1575</td>\n",
       "    </tr>\n",
       "    <tr>\n",
       "      <th>2023-03-29</th>\n",
       "      <td>-1.346320</td>\n",
       "      <td>3.8625</td>\n",
       "    </tr>\n",
       "    <tr>\n",
       "      <th>2023-03-30</th>\n",
       "      <td>-1.359007</td>\n",
       "      <td>0.4450</td>\n",
       "    </tr>\n",
       "  </tbody>\n",
       "</table>\n",
       "</div>"
      ],
      "text/plain": [
       "component   TMP_daymean  APCP_daymean\n",
       "date                                 \n",
       "2023-03-21    -1.313536        0.1000\n",
       "2023-03-22    -1.262198        0.0100\n",
       "2023-03-23     0.858568        1.1750\n",
       "2023-03-24     1.504335        0.1225\n",
       "2023-03-25    -2.077788        0.8025\n",
       "2023-03-26    -1.225310        1.7050\n",
       "2023-03-27    -1.065504        0.2475\n",
       "2023-03-28    -1.628470        0.1575\n",
       "2023-03-29    -1.346320        3.8625\n",
       "2023-03-30    -1.359007        0.4450"
      ]
     },
     "execution_count": 104,
     "metadata": {},
     "output_type": "execute_result"
    }
   ],
   "source": [
    "NOAA_covariates_pd = NOAA_covariates.pd_dataframe()\n",
    "NOAA_covariates_pd.head(10)"
   ]
  },
  {
   "cell_type": "code",
   "execution_count": 113,
   "id": "3bde4c0a-ec13-49ef-b6af-820108e22f1e",
   "metadata": {
    "tags": []
   },
   "outputs": [
    {
     "data": {
      "image/png": "[encoded data removed]",
      "text/plain": [
       "<Figure size 640x480 with 1 Axes>"
      ]
     },
     "metadata": {},
     "output_type": "display_data"
    },
    {
     "data": {
      "text/plain": [
       "<ggplot: (8745612720291)>"
      ]
     },
     "execution_count": 113,
     "metadata": {},
     "output_type": "execute_result"
    }
   ],
   "source": [
    "import plotnine as gg\n",
    "\n",
    "(\n",
    "    gg.ggplot(pandas_date_averaged, gg.aes(\"date\", \"TMP_daymean\"))\n",
    "    + gg.geom_line(alpha=0.2) + gg.geom_point(shape=\"+\")\n",
    ")\n"
   ]
  },
  {
   "cell_type": "code",
   "execution_count": 114,
   "id": "207d35c7-7083-4451-bcae-9a4b116a5798",
   "metadata": {
    "tags": []
   },
   "outputs": [
    {
     "data": {
      "image/png": "[encoded data removed]",
      "text/plain": [
       "<Figure size 640x480 with 1 Axes>"
      ]
     },
     "metadata": {},
     "output_type": "display_data"
    },
    {
     "data": {
      "text/plain": [
       "<ggplot: (8745612641037)>"
      ]
     },
     "execution_count": 114,
     "metadata": {},
     "output_type": "execute_result"
    }
   ],
   "source": [
    "(\n",
    "    gg.ggplot(pandas_date_averaged, gg.aes(\"date\", \"APCP_daymean\"))\n",
    "    + gg.geom_line(alpha=0.2) + gg.geom_point(shape=\"+\")\n",
    ")"
   ]
  },
  {
   "cell_type": "code",
   "execution_count": null,
   "id": "bacf7a46-7731-4fbe-a9e0-1f05d5ce4127",
   "metadata": {},
   "outputs": [],
   "source": []
  }
 ],
 "metadata": {
  "kernelspec": {
   "display_name": "Python 3 (ipykernel)",
   "language": "python",
   "name": "python3"
  },
  "language_info": {
   "codemirror_mode": {
    "name": "ipython",
    "version": 3
   },
   "file_extension": ".py",
   "mimetype": "text/x-python",
   "name": "python",
   "nbconvert_exporter": "python",
   "pygments_lexer": "ipython3",
   "version": "3.10.6"
  }
 },
 "nbformat": 4,
 "nbformat_minor": 5
}
